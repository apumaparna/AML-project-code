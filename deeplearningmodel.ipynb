{
 "cells": [
  {
   "cell_type": "code",
   "execution_count": 11,
   "metadata": {},
   "outputs": [],
   "source": [
    "import pandas as pd\n",
    "# read_data helper function\n",
    "def read_data():\n",
    "    X_dev = pd.read_csv('finalized_data/X_dev.csv')\n",
    "    X_test = pd.read_csv('finalized_data/X_test.csv')\n",
    "    y_dev = pd.read_csv('finalized_data/y_dev.csv')\n",
    "    y_test = pd.read_csv('finalized_data/y_test.csv')\n",
    "    return X_dev, X_test, y_dev, y_test"
   ]
  },
  {
   "cell_type": "code",
   "execution_count": 12,
   "metadata": {},
   "outputs": [],
   "source": [
    "X_dev, X_test, y_dev, y_test = read_data()"
   ]
  },
  {
   "cell_type": "code",
   "execution_count": 13,
   "metadata": {},
   "outputs": [],
   "source": [
    "from sklearn.model_selection import train_test_split\n",
    "X_train, X_val, y_train, y_val = train_test_split(X_dev, y_dev, test_size=0.2, random_state=42)"
   ]
  },
  {
   "cell_type": "code",
   "execution_count": 14,
   "metadata": {},
   "outputs": [
    {
     "name": "stdout",
     "output_type": "stream",
     "text": [
      "Epoch 1/10\n",
      "4938/4938 [==============================] - 19s 3ms/step - loss: 0.0356 - val_loss: 0.0298\n",
      "Epoch 2/10\n",
      "4938/4938 [==============================] - 18s 4ms/step - loss: 0.0286 - val_loss: 0.0282\n",
      "Epoch 3/10\n",
      "4938/4938 [==============================] - 16s 3ms/step - loss: 0.0283 - val_loss: 0.0282\n",
      "Epoch 4/10\n",
      "4938/4938 [==============================] - 15s 3ms/step - loss: 0.0284 - val_loss: 0.0284\n",
      "Epoch 5/10\n",
      "4938/4938 [==============================] - 17s 4ms/step - loss: 0.0283 - val_loss: 0.0283\n",
      "Epoch 6/10\n",
      "4938/4938 [==============================] - 18s 4ms/step - loss: 0.0283 - val_loss: 0.0284\n",
      "Epoch 7/10\n",
      "4938/4938 [==============================] - 14s 3ms/step - loss: 0.0282 - val_loss: 0.0281\n",
      "Epoch 8/10\n",
      "4938/4938 [==============================] - 13s 3ms/step - loss: 0.0282 - val_loss: 0.0283\n",
      "Epoch 9/10\n",
      "4938/4938 [==============================] - 14s 3ms/step - loss: 0.0282 - val_loss: 0.0283\n",
      "Epoch 10/10\n",
      "4938/4938 [==============================] - 14s 3ms/step - loss: 0.0282 - val_loss: 0.0280\n"
     ]
    },
    {
     "data": {
      "text/plain": [
       "<keras.src.callbacks.History at 0x7f7cca0f3490>"
      ]
     },
     "execution_count": 14,
     "metadata": {},
     "output_type": "execute_result"
    }
   ],
   "source": [
    "from tensorflow.keras.models import Sequential\n",
    "from tensorflow.keras.layers import Dense, Dropout, BatchNormalization, Activation\n",
    "\n",
    "input_shape = X_dev.shape[1]\n",
    "\n",
    "model = Sequential()\n",
    "\n",
    "# First hidden layer\n",
    "model.add(Dense(128, input_shape=(input_shape,)))\n",
    "model.add(BatchNormalization())\n",
    "model.add(Activation('relu'))\n",
    "model.add(Dropout(0.3))\n",
    "\n",
    "# Second hidden layer\n",
    "model.add(Dense(128))\n",
    "model.add(BatchNormalization())\n",
    "model.add(Activation('relu'))\n",
    "model.add(Dropout(0.3))\n",
    "\n",
    "# Third hidden layer\n",
    "model.add(Dense(64))\n",
    "model.add(BatchNormalization())\n",
    "model.add(Activation('relu'))\n",
    "model.add(Dropout(0.2))\n",
    "\n",
    "# Fourth hidden layer\n",
    "model.add(Dense(32))\n",
    "model.add(Activation('relu'))\n",
    "\n",
    "# Output layer\n",
    "model.add(Dense(1))\n",
    "\n",
    "# Compile the model\n",
    "model.compile(optimizer='adam', loss='mean_squared_error')\n",
    "\n",
    "# Train the model\n",
    "model.fit(X_dev, y_dev, validation_data=(X_val, y_val), epochs=10, batch_size=32)\n"
   ]
  },
  {
   "cell_type": "code",
   "execution_count": 17,
   "metadata": {},
   "outputs": [
    {
     "name": "stdout",
     "output_type": "stream",
     "text": [
      "1235/1235 [==============================] - 2s 2ms/step\n",
      "RMSE:  0.16524324162278256\n"
     ]
    }
   ],
   "source": [
    "# evaluation\n",
    "from sklearn.metrics import mean_squared_error\n",
    "from math import sqrt\n",
    "\n",
    "y_pred = model.predict(X_test)\n",
    "rmse = sqrt(mean_squared_error(y_test, y_pred))\n",
    "print('RMSE: ', rmse)\n"
   ]
  },
  {
   "cell_type": "code",
   "execution_count": 18,
   "metadata": {},
   "outputs": [
    {
     "data": {
      "image/png": "[encoded data removed]",
      "text/plain": [
       "<Figure size 432x288 with 1 Axes>"
      ]
     },
     "metadata": {
      "needs_background": "light"
     },
     "output_type": "display_data"
    }
   ],
   "source": [
    "# visualization\n",
    "import matplotlib.pyplot as plt\n",
    "plt.plot(y_test, label='actual')\n",
    "plt.plot(y_pred, label='predicted')\n",
    "plt.legend()\n",
    "plt.show()"
   ]
  },
  {
   "cell_type": "code",
   "execution_count": null,
   "metadata": {},
   "outputs": [],
   "source": []
  }
 ],
 "metadata": {
  "kernelspec": {
   "display_name": "base",
   "language": "python",
   "name": "python3"
  },
  "language_info": {
   "codemirror_mode": {
    "name": "ipython",
    "version": 3
   },
   "file_extension": ".py",
   "mimetype": "text/x-python",
   "name": "python",
   "nbconvert_exporter": "python",
   "pygments_lexer": "ipython3",
   "version": "3.8.5"
  }
 },
 "nbformat": 4,
 "nbformat_minor": 2
}
