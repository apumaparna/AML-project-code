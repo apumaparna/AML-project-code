{
 "cells": [
  {
   "cell_type": "code",
   "execution_count": 4,
   "metadata": {},
   "outputs": [],
   "source": [
    "import pandas as pd\n",
    "# read_data helper function\n",
    "def read_data():\n",
    "    X_dev = pd.read_csv('finalized_data/X_dev.csv')\n",
    "    X_test = pd.read_csv('finalized_data/X_test.csv')\n",
    "    y_dev = pd.read_csv('finalized_data/y_dev.csv')\n",
    "    y_test = pd.read_csv('finalized_data/y_test.csv')\n",
    "    return X_dev, X_test, y_dev, y_test"
   ]
  },
  {
   "cell_type": "code",
   "execution_count": 5,
   "metadata": {},
   "outputs": [],
   "source": [
    "X_dev, X_val, y_dev, y_val = read_data()"
   ]
  },
  {
   "cell_type": "code",
   "execution_count": 6,
   "metadata": {},
   "outputs": [
    {
     "name": "stdout",
     "output_type": "stream",
     "text": [
      "Epoch 1/10\n",
      "4938/4938 [==============================] - 17s 3ms/step - loss: 0.0345 - val_loss: 0.0275\n",
      "Epoch 2/10\n",
      "4938/4938 [==============================] - 24s 5ms/step - loss: 0.0285 - val_loss: 0.0280\n",
      "Epoch 3/10\n",
      "4938/4938 [==============================] - 24s 5ms/step - loss: 0.0284 - val_loss: 0.0278\n",
      "Epoch 4/10\n",
      "4938/4938 [==============================] - 16s 3ms/step - loss: 0.0284 - val_loss: 0.0275\n",
      "Epoch 5/10\n",
      "4938/4938 [==============================] - 31s 6ms/step - loss: 0.0283 - val_loss: 0.0276\n",
      "Epoch 6/10\n",
      "4938/4938 [==============================] - 18s 4ms/step - loss: 0.0283 - val_loss: 0.0276\n",
      "Epoch 7/10\n",
      "4938/4938 [==============================] - 16s 3ms/step - loss: 0.0282 - val_loss: 0.0275\n",
      "Epoch 8/10\n",
      "4938/4938 [==============================] - 27s 5ms/step - loss: 0.0282 - val_loss: 0.0276\n",
      "Epoch 9/10\n",
      "4938/4938 [==============================] - 16s 3ms/step - loss: 0.0283 - val_loss: 0.0276\n",
      "Epoch 10/10\n",
      "4938/4938 [==============================] - 12s 2ms/step - loss: 0.0283 - val_loss: 0.0276\n"
     ]
    },
    {
     "data": {
      "text/plain": [
       "<keras.src.callbacks.History at 0x7ff578d3aee0>"
      ]
     },
     "execution_count": 6,
     "metadata": {},
     "output_type": "execute_result"
    }
   ],
   "source": [
    "from tensorflow.keras.models import Sequential\n",
    "from tensorflow.keras.layers import Dense, Dropout, BatchNormalization, Activation\n",
    "\n",
    "input_shape = X_dev.shape[1]\n",
    "\n",
    "model = Sequential()\n",
    "\n",
    "# First hidden layer\n",
    "model.add(Dense(128, input_shape=(input_shape,)))\n",
    "model.add(BatchNormalization())\n",
    "model.add(Activation('relu'))\n",
    "model.add(Dropout(0.3))\n",
    "\n",
    "# Second hidden layer\n",
    "model.add(Dense(128))\n",
    "model.add(BatchNormalization())\n",
    "model.add(Activation('relu'))\n",
    "model.add(Dropout(0.3))\n",
    "\n",
    "# Third hidden layer\n",
    "model.add(Dense(64))\n",
    "model.add(BatchNormalization())\n",
    "model.add(Activation('relu'))\n",
    "model.add(Dropout(0.2))\n",
    "\n",
    "# Fourth hidden layer\n",
    "model.add(Dense(32))\n",
    "model.add(Activation('relu'))\n",
    "\n",
    "# Output layer\n",
    "model.add(Dense(1))\n",
    "\n",
    "# Compile the model\n",
    "model.compile(optimizer='adam', loss='mean_squared_error')\n",
    "\n",
    "# Train the model\n",
    "model.fit(X_dev, y_dev, validation_data=(X_val, y_val), epochs=10, batch_size=32)\n"
   ]
  },
  {
   "cell_type": "code",
   "execution_count": null,
   "metadata": {},
   "outputs": [],
   "source": []
  }
 ],
 "metadata": {
  "kernelspec": {
   "display_name": "base",
   "language": "python",
   "name": "python3"
  },
  "language_info": {
   "codemirror_mode": {
    "name": "ipython",
    "version": 3
   },
   "file_extension": ".py",
   "mimetype": "text/x-python",
   "name": "python",
   "nbconvert_exporter": "python",
   "pygments_lexer": "ipython3",
   "version": "3.8.5"
  }
 },
 "nbformat": 4,
 "nbformat_minor": 2
}
