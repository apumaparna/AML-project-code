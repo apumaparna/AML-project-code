{
 "cells": [
  {
   "cell_type": "code",
   "execution_count": 11,
   "metadata": {
    "tags": []
   },
   "outputs": [],
   "source": [
    "import pandas as pd\n",
    "import numpy as np\n",
    "import matplotlib.pyplot as plt\n",
    "import seaborn as sns\n",
    "from sklearn.model_selection import train_test_split\n",
    "from xgboost import XGBRegressor\n",
    "from sklearn.model_selection import RandomizedSearchCV\n",
    "from sklearn.inspection import permutation_importance\n",
    "from sklearn.metrics import mean_squared_error as MSE "
   ]
  },
  {
   "cell_type": "code",
   "execution_count": 2,
   "metadata": {
    "tags": []
   },
   "outputs": [],
   "source": [
    "X_dev = pd.read_csv('finalized_data/X_dev.csv')\n",
    "X_test = pd.read_csv('finalized_data/X_test.csv')\n",
    "y_dev = pd.read_csv('finalized_data/y_dev.csv')\n",
    "y_test = pd.read_csv('finalized_data/y_test.csv')"
   ]
  },
  {
   "cell_type": "markdown",
   "metadata": {},
   "source": [
    "### Model\n",
    "## XGboost"
   ]
  },
  {
   "cell_type": "code",
   "execution_count": 3,
   "metadata": {
    "tags": []
   },
   "outputs": [
    {
     "name": "stdout",
     "output_type": "stream",
     "text": [
      "xgboost train score: 0.3876641372988512\n",
      "xgboost test score: 0.2239949427337221\n"
     ]
    }
   ],
   "source": [
    "xgb_no = XGBRegressor(random_state = 10)\n",
    "xgb_no.fit(X_dev, y_dev)\n",
    "print('xgboost train score:', xgb_no.score(X_dev, y_dev))\n",
    "print('xgboost test score:', xgb_no.score(X_test, y_test))"
   ]
  },
  {
   "cell_type": "code",
   "execution_count": 4,
   "metadata": {
    "tags": []
   },
   "outputs": [
    {
     "name": "stdout",
     "output_type": "stream",
     "text": [
      "xgboost Best score: 0.230789169665311\n",
      "xgboost Best alpha: {'min_child_weight': 2, 'max_depth': 7, 'gamma': 0.08, 'eta': 0.05}\n"
     ]
    }
   ],
   "source": [
    "xgb = RandomizedSearchCV(XGBRegressor(random_state = 40),\n",
    " param_distributions = {'gamma': [0,.005,.01,.03,.05,.08,.1],\n",
    " 'eta' : [0,.005,.01,.03,.05,.08,.1],\n",
    " 'max_depth' : [3,5,6,7,9,11], 'min_child_weight' : [1,2,3,5,8]},\n",
    " cv = 10)\n",
    "\n",
    "xgb.fit(X_dev, y_dev)\n",
    "print('xgboost Best score:', xgb.best_score_)\n",
    "print('xgboost Best alpha:', xgb.best_params_)"
   ]
  },
  {
   "cell_type": "code",
   "execution_count": 5,
   "metadata": {
    "tags": []
   },
   "outputs": [
    {
     "data": {
      "image/png": "[encoded data removed]",
      "text/plain": [
       "<Figure size 640x480 with 1 Axes>"
      ]
     },
     "metadata": {},
     "output_type": "display_data"
    }
   ],
   "source": [
    "perm_rand = permutation_importance(xgb, X_dev, y_dev)\n",
    "mean_perm_rand = perm_rand.importances_mean\n",
    "plt.bar(X_dev.columns, mean_perm_rand)\n",
    "plt.xticks(rotation=90)\n",
    "plt.show()"
   ]
  },
  {
   "cell_type": "code",
   "execution_count": 6,
   "metadata": {
    "tags": []
   },
   "outputs": [],
   "source": [
    "# removing all put top 4\n",
    "top_feats = ['ua_pop', 'pctpovnorm', 'tes', 'health_nor']\n",
    "X_dev_top_feats = X_dev[top_feats]\n",
    "X_test_top_feats = X_test[top_feats]"
   ]
  },
  {
   "cell_type": "code",
   "execution_count": 14,
   "metadata": {
    "tags": []
   },
   "outputs": [
    {
     "name": "stdout",
     "output_type": "stream",
     "text": [
      "xgboost train score: 0.33432203344840894\n",
      "xgboost test score: 0.22932883032983342\n"
     ]
    },
    {
     "data": {
      "text/plain": [
       "0.02269331199979276"
      ]
     },
     "execution_count": 14,
     "metadata": {},
     "output_type": "execute_result"
    }
   ],
   "source": [
    "xgb2 = XGBRegressor(random_state = 44,\n",
    "                    min_child_weight= 1, max_depth= 7,\n",
    "                    gamma= 0.005, eta= 0.08)\n",
    "\n",
    "xgb2.fit(X_dev, y_dev)\n",
    "print('xgboost train score:', xgb2.score(X_dev, y_dev))\n",
    "print('xgboost test score:', xgb2.score(X_test, y_test))\n",
    "\n",
    "pred = xgb2.predict(X_test) \n",
    "  \n",
    "# RMSE Computation \n",
    "MSE(y_test, pred)"
   ]
  },
  {
   "cell_type": "code",
   "execution_count": 8,
   "metadata": {
    "tags": []
   },
   "outputs": [
    {
     "name": "stdout",
     "output_type": "stream",
     "text": [
      "xgboost train score: 0.27227912128147913\n",
      "xgboost test score: 0.20527637595576986\n"
     ]
    }
   ],
   "source": [
    "xgb3 = XGBRegressor(random_state = 44,\n",
    "                    min_child_weight= 1, max_depth= 7,\n",
    "                    gamma= 0.005, eta= 0.08)\n",
    "\n",
    "xgb3.fit(X_dev_top_feats, y_dev)\n",
    "print('xgboost train score:', xgb3.score(X_dev_top_feats, y_dev))\n",
    "print('xgboost test score:', xgb3.score(X_test_top_feats, y_test))"
   ]
  },
  {
   "cell_type": "code",
   "execution_count": 9,
   "metadata": {
    "tags": []
   },
   "outputs": [
    {
     "name": "stdout",
     "output_type": "stream",
     "text": [
      "xgboost Best score: 0.210118162789316\n",
      "xgboost Best alpha: {'min_child_weight': 5, 'max_depth': 6, 'gamma': 0.05, 'eta': 0.08}\n"
     ]
    }
   ],
   "source": [
    "xgb4 = RandomizedSearchCV(XGBRegressor(random_state = 40),\n",
    " param_distributions = {'gamma': [0,.005,.01,.03,.05,.08,.1],\n",
    " 'eta' : [0,.005,.01,.03,.05,.08,.1],\n",
    " 'max_depth' : [3,5,6,7,9,11], 'min_child_weight' : [1,2,3,5,8]},\n",
    " cv = 10)\n",
    "\n",
    "xgb4.fit(X_dev_top_feats, y_dev)\n",
    "print('xgboost Best score:', xgb4.best_score_)\n",
    "print('xgboost Best alpha:', xgb4.best_params_)"
   ]
  }
 ],
 "metadata": {
  "kernelspec": {
   "display_name": "Python 3 (ipykernel)",
   "language": "python",
   "name": "python3"
  },
  "language_info": {
   "codemirror_mode": {
    "name": "ipython",
    "version": 3
   },
   "file_extension": ".py",
   "mimetype": "text/x-python",
   "name": "python",
   "nbconvert_exporter": "python",
   "pygments_lexer": "ipython3",
   "version": "3.11.4"
  }
 },
 "nbformat": 4,
 "nbformat_minor": 4
}
