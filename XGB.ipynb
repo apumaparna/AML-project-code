{
 "cells": [
  {
   "cell_type": "code",
   "execution_count": 1,
   "metadata": {
    "tags": []
   },
   "outputs": [],
   "source": [
    "import pandas as pd\n",
    "import numpy as np\n",
    "import matplotlib.pyplot as plt\n",
    "import seaborn as sns\n",
    "from sklearn.model_selection import train_test_split"
   ]
  },
  {
   "cell_type": "code",
   "execution_count": 2,
   "metadata": {
    "tags": []
   },
   "outputs": [],
   "source": [
    "def show_corr(df):\n",
    "    # make a clean matrix, the font can fit in the box\n",
    "    plt.figure(figsize=(16, 16))\n",
    "    sns.heatmap(df.corr(), annot=True, fmt='.2f', cmap='coolwarm')\n",
    "    plt.show()"
   ]
  },
  {
   "cell_type": "markdown",
   "metadata": {},
   "source": [
    "### Load data and Clean data"
   ]
  },
  {
   "cell_type": "code",
   "execution_count": 3,
   "metadata": {
    "tags": []
   },
   "outputs": [],
   "source": [
    "# Load data\n",
    "datapath = 'Data/national_csv/national_tes.csv'\n",
    "df = pd.read_csv(datapath)\n",
    "\n",
    "# Drop unnecessary columns\n",
    "drop_columns = [\n",
    "    'tc_gap', 'treecanopy', # most values are -1\n",
    "    'holc_grade', 'tesctyscor', # NULL values\n",
    "    'GEOID', 'place', 'state', 'state_abbr','county', 'ua_name', 'congressio','cnpysource', # unnecessary\n",
    "    'cbg_pop', 'priority_i', 'pctpoc', 'pctpov', 'unemplrate', 'dep_ratio','dep_perc', 'linguistic', 'temp_diff' # high corr\n",
    "]\n",
    "df = df.drop(drop_columns, axis=1)"
   ]
  },
  {
   "cell_type": "markdown",
   "metadata": {},
   "source": [
    "### Split data"
   ]
  },
  {
   "cell_type": "code",
   "execution_count": 4,
   "metadata": {
    "tags": []
   },
   "outputs": [],
   "source": [
    "X, y = df.drop('unemplnorm', axis=1), df['unemplnorm']\n",
    "X_dev, X_test, y_dev, y_test = train_test_split(X, y, \n",
    "                                                random_state=42,\n",
    "                                                test_size = .2)"
   ]
  },
  {
   "cell_type": "markdown",
   "metadata": {},
   "source": [
    "### Target Encoding for Categorical Features"
   ]
  },
  {
   "cell_type": "code",
   "execution_count": 5,
   "metadata": {
    "tags": []
   },
   "outputs": [],
   "source": [
    "from category_encoders import TargetEncoder\n",
    "\n",
    "# Create the target encoder\n",
    "encoder = TargetEncoder()\n",
    "\n",
    "# Fit the encoder on the development set (you should pass both the feature and the target)\n",
    "encoder.fit(X_dev['biome'].astype(str), y_dev)\n",
    "\n",
    "# Transform the feature (apply the encoding)\n",
    "transformed_biome = encoder.transform(X_dev['biome'].astype(str))\n",
    "transformed_biome_test = encoder.transform(X_test['biome'].astype(str))\n",
    "\n",
    "X_dev['biome_target'] = transformed_biome\n",
    "X_test['biome_target'] = transformed_biome_test"
   ]
  },
  {
   "cell_type": "markdown",
   "metadata": {},
   "source": [
    "### Reset Index"
   ]
  },
  {
   "cell_type": "code",
   "execution_count": 6,
   "metadata": {
    "tags": []
   },
   "outputs": [],
   "source": [
    "X_dev.reset_index(drop=True, inplace=True)  \n",
    "X_test.reset_index(drop=True, inplace=True)"
   ]
  },
  {
   "cell_type": "markdown",
   "metadata": {},
   "source": [
    "### Save the dataframe to local"
   ]
  },
  {
   "cell_type": "code",
   "execution_count": 7,
   "metadata": {
    "tags": []
   },
   "outputs": [],
   "source": [
    "# if there is no finalized data folder, create one\n",
    "import os\n",
    "if not os.path.exists('finalized_data'):\n",
    "    os.makedirs('finalized_data')\n",
    "\n",
    "# save the data\n",
    "X_dev.to_csv('finalized_data/X_dev.csv', index=False)\n",
    "X_test.to_csv('finalized_data/X_test.csv', index=False)\n",
    "y_dev.to_csv('finalized_data/y_dev.csv', index=False)\n",
    "y_test.to_csv('finalized_data/y_test.csv', index=False)\n"
   ]
  },
  {
   "cell_type": "markdown",
   "metadata": {},
   "source": [
    "### Helper function for reading data"
   ]
  },
  {
   "cell_type": "code",
   "execution_count": 8,
   "metadata": {
    "tags": []
   },
   "outputs": [],
   "source": [
    "# read_data helper function\n",
    "def read_data():\n",
    "    X_dev = pd.read_csv('finalized_data/X_dev.csv')\n",
    "    X_test = pd.read_csv('finalized_data/X_test.csv')\n",
    "    y_dev = pd.read_csv('finalized_data/y_dev.csv')\n",
    "    y_test = pd.read_csv('finalized_data/y_test.csv')\n",
    "    return X_dev, X_test, y_dev, y_test"
   ]
  },
  {
   "cell_type": "code",
   "execution_count": null,
   "metadata": {},
   "outputs": [],
   "source": [
    "del X_dev['biome']"
   ]
  },
  {
   "cell_type": "code",
   "execution_count": 22,
   "metadata": {
    "tags": []
   },
   "outputs": [],
   "source": [
    "del X_test['biome']"
   ]
  },
  {
   "cell_type": "markdown",
   "metadata": {},
   "source": [
    "### Model"
   ]
  },
  {
   "cell_type": "code",
   "execution_count": 31,
   "metadata": {
    "tags": []
   },
   "outputs": [
    {
     "name": "stdout",
     "output_type": "stream",
     "text": [
      "xgboost train score: 0.3876641372988512\n",
      "xgboost train score: 0.2239949427337221\n"
     ]
    }
   ],
   "source": [
    "from xgboost import XGBRegressor\n",
    "xgb_no = XGBRegressor(random_state = 10)\n",
    "xgb_no.fit(X_dev, y_dev)\n",
    "print('xgboost train score:', xgb_no.score(X_dev, y_dev))\n",
    "print('xgboost train score:', xgb_no.score(X_test, y_test))"
   ]
  },
  {
   "cell_type": "code",
   "execution_count": 42,
   "metadata": {
    "tags": []
   },
   "outputs": [
    {
     "name": "stdout",
     "output_type": "stream",
     "text": [
      "xgboost Best score: 0.23214935710167423\n",
      "xgboost Best alpha: {'min_child_weight': 1, 'max_depth': 7, 'gamma': 0.005, 'eta': 0.08}\n"
     ]
    }
   ],
   "source": [
    "from sklearn.model_selection import RandomizedSearchCV\n",
    "\n",
    "xgb = RandomizedSearchCV(XGBRegressor(random_state = 40),\n",
    " param_distributions = {'gamma': [0,.005,.01,.03,.05,.08,.1],\n",
    " 'eta' : [0,.005,.01,.03,.05,.08,.1],\n",
    " 'max_depth' : [3,5,6,7,9,11], 'min_child_weight' : [1,2,3,5,8]},\n",
    " cv = 10)\n",
    "\n",
    "xgb.fit(X_dev, y_dev)\n",
    "print('xgboost Best score:', xgb.best_score_)\n",
    "print('xgboost Best alpha:', xgb.best_params_)"
   ]
  },
  {
   "cell_type": "code",
   "execution_count": 43,
   "metadata": {
    "tags": []
   },
   "outputs": [
    {
     "data": {
      "image/png": "[encoded data removed]",
      "text/plain": [
       "<Figure size 640x480 with 1 Axes>"
      ]
     },
     "metadata": {},
     "output_type": "display_data"
    }
   ],
   "source": [
    "from sklearn.inspection import permutation_importance\n",
    "\n",
    "perm_rand = permutation_importance(xgb, X_dev, y_dev)\n",
    "mean_perm_rand = perm_rand.importances_mean\n",
    "plt.bar(X_dev.columns, mean_perm_rand)\n",
    "plt.xticks(rotation=90)\n",
    "plt.show()"
   ]
  },
  {
   "cell_type": "code",
   "execution_count": 49,
   "metadata": {
    "tags": []
   },
   "outputs": [],
   "source": [
    "# removing all put top 4\n",
    "top_feats = ['ua_pop', 'pctpovnorm', 'tes', 'health_nor']\n",
    "X_dev_top_feats = X_dev[top_feats]\n",
    "X_test_top_feats = X_test[top_feats]"
   ]
  },
  {
   "cell_type": "code",
   "execution_count": 53,
   "metadata": {
    "tags": []
   },
   "outputs": [
    {
     "name": "stdout",
     "output_type": "stream",
     "text": [
      "xgboost train score: 0.33432203344840894\n",
      "xgboost test score: 0.22932883032983342\n"
     ]
    }
   ],
   "source": [
    "xgb2 = XGBRegressor(random_state = 44,\n",
    "                    min_child_weight= 1, max_depth= 7,\n",
    "                    gamma= 0.005, eta= 0.08)\n",
    "\n",
    "xgb2.fit(X_dev, y_dev)\n",
    "print('xgboost train score:', xgb2.score(X_dev, y_dev))\n",
    "print('xgboost test score:', xgb2.score(X_test, y_test))"
   ]
  },
  {
   "cell_type": "code",
   "execution_count": 54,
   "metadata": {
    "tags": []
   },
   "outputs": [
    {
     "name": "stdout",
     "output_type": "stream",
     "text": [
      "xgboost train score: 0.25461768552424857\n",
      "xgboost test score: 0.2038347393982407\n"
     ]
    }
   ],
   "source": [
    "xgb3 = XGBRegressor(random_state = 44,\n",
    "                    min_child_weight= 1, max_depth= 7,\n",
    "                    gamma= 0.005, eta= 0.08)\n",
    "\n",
    "xgb3.fit(X_dev_top_feats, y_dev)\n",
    "print('xgboost train score:', xgb3.score(X_dev_top_feats, y_dev))\n",
    "print('xgboost test score:', xgb3.score(X_test_top_feats, y_test))"
   ]
  }
 ],
 "metadata": {
  "kernelspec": {
   "display_name": "Python 3 (ipykernel)",
   "language": "python",
   "name": "python3"
  },
  "language_info": {
   "codemirror_mode": {
    "name": "ipython",
    "version": 3
   },
   "file_extension": ".py",
   "mimetype": "text/x-python",
   "name": "python",
   "nbconvert_exporter": "python",
   "pygments_lexer": "ipython3",
   "version": "3.11.4"
  }
 },
 "nbformat": 4,
 "nbformat_minor": 4
}
