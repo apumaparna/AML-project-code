{
 "cells": [
  {
   "cell_type": "code",
   "execution_count": 18,
   "metadata": {},
   "outputs": [],
   "source": [
    "import pandas as pd\n",
    "import numpy as np\n",
    "import matplotlib.pyplot as plt\n",
    "import seaborn as sns\n",
    "from sklearn.model_selection import train_test_split"
   ]
  },
  {
   "cell_type": "code",
   "execution_count": 19,
   "metadata": {},
   "outputs": [],
   "source": [
    "def show_corr(df):\n",
    "    # make a clean matrix, the font can fit in the box\n",
    "    plt.figure(figsize=(16, 16))\n",
    "    sns.heatmap(df.corr(), annot=True, fmt='.2f', cmap='coolwarm')\n",
    "    plt.show()"
   ]
  },
  {
   "cell_type": "markdown",
   "metadata": {},
   "source": [
    "### Load data and Clean data"
   ]
  },
  {
   "cell_type": "code",
   "execution_count": 20,
   "metadata": {},
   "outputs": [],
   "source": [
    "# Load data\n",
    "datapath = 'Data/national_csv/national_tes.csv'\n",
    "df = pd.read_csv(datapath)\n",
    "\n",
    "# Drop unnecessary columns\n",
    "drop_columns = [\n",
    "    'tc_gap', 'treecanopy', # most values are -1\n",
    "    'holc_grade', 'tesctyscor', # NULL values\n",
    "    'GEOID', 'place', 'state', 'state_abbr','county', 'ua_name', 'congressio','cnpysource', # unnecessary\n",
    "    'cbg_pop', 'priority_i', 'pctpoc', 'pctpov', 'unemplrate', 'dep_ratio','dep_perc', 'linguistic', 'temp_diff' # high corr\n",
    "]\n",
    "df = df.drop(drop_columns, axis=1)"
   ]
  },
  {
   "cell_type": "markdown",
   "metadata": {},
   "source": [
    "### Split data"
   ]
  },
  {
   "cell_type": "code",
   "execution_count": 21,
   "metadata": {},
   "outputs": [],
   "source": [
    "X, y = df.drop('unemplnorm', axis=1), df['unemplnorm']\n",
    "X_dev, X_test, y_dev, y_test = train_test_split(X, y, \n",
    "                                                random_state=42,\n",
    "                                                test_size = .2)"
   ]
  },
  {
   "cell_type": "markdown",
   "metadata": {},
   "source": [
    "### Target Encoding for Categorical Features"
   ]
  },
  {
   "cell_type": "code",
   "execution_count": 22,
   "metadata": {},
   "outputs": [],
   "source": [
    "from category_encoders import TargetEncoder\n",
    "# Create the target encoder\n",
    "encoder = TargetEncoder()\n",
    "\n",
    "# Fit the encoder on the development set (you should pass both the feature and the target)\n",
    "encoder.fit(X_dev['biome'].astype(str), y_dev)\n",
    "\n",
    "# Transform the feature (apply the encoding)\n",
    "transformed_biome = encoder.transform(X_dev['biome'].astype(str))\n",
    "transformed_biome_test = encoder.transform(X_test['biome'].astype(str))\n",
    "\n",
    "X_dev['biome_target'] = transformed_biome\n",
    "X_test['biome_target'] = transformed_biome_test\n",
    "X_dev = X_dev.drop('biome', axis=1)\n",
    "X_test = X_test.drop('biome', axis=1)"
   ]
  },
  {
   "cell_type": "markdown",
   "metadata": {},
   "source": [
    "### Reset Index"
   ]
  },
  {
   "cell_type": "code",
   "execution_count": 23,
   "metadata": {},
   "outputs": [],
   "source": [
    "X_dev.reset_index(drop=True, inplace=True)  \n",
    "X_test.reset_index(drop=True, inplace=True)"
   ]
  },
  {
   "cell_type": "markdown",
   "metadata": {},
   "source": [
    "### Save the dataframe to local"
   ]
  },
  {
   "cell_type": "code",
   "execution_count": 24,
   "metadata": {},
   "outputs": [],
   "source": [
    "# if there is no finalized data folder, create one\n",
    "import os\n",
    "if not os.path.exists('finalized_data'):\n",
    "    os.makedirs('finalized_data')\n",
    "\n",
    "# save the data\n",
    "X_dev.to_csv('finalized_data/X_dev.csv', index=False)\n",
    "X_test.to_csv('finalized_data/X_test.csv', index=False)\n",
    "y_dev.to_csv('finalized_data/y_dev.csv', index=False)\n",
    "y_test.to_csv('finalized_data/y_test.csv', index=False)\n"
   ]
  },
  {
   "cell_type": "markdown",
   "metadata": {},
   "source": [
    "### Helper function for reading data"
   ]
  },
  {
   "cell_type": "code",
   "execution_count": 25,
   "metadata": {},
   "outputs": [],
   "source": [
    "# read_data helper function\n",
    "def read_data():\n",
    "    X_dev = pd.read_csv('finalized_data/X_dev.csv')\n",
    "    X_test = pd.read_csv('finalized_data/X_test.csv')\n",
    "    y_dev = pd.read_csv('finalized_data/y_dev.csv')\n",
    "    y_test = pd.read_csv('finalized_data/y_test.csv')\n",
    "    return X_dev, X_test, y_dev, y_test"
   ]
  },
  {
   "cell_type": "markdown",
   "metadata": {},
   "source": [
    "### Model"
   ]
  },
  {
   "cell_type": "code",
   "execution_count": 26,
   "metadata": {},
   "outputs": [],
   "source": [
    "X_dev, X_val, y_dev, y_val = read_data()"
   ]
  },
  {
   "cell_type": "code",
   "execution_count": 28,
   "metadata": {},
   "outputs": [
    {
     "name": "stdout",
     "output_type": "stream",
     "text": [
      "Epoch 1/10\n",
      "4938/4938 [==============================] - 19s 3ms/step - loss: 0.0336 - val_loss: 0.0275\n",
      "Epoch 2/10\n",
      "4938/4938 [==============================] - 21s 4ms/step - loss: 0.0283 - val_loss: 0.0277\n",
      "Epoch 3/10\n",
      "4938/4938 [==============================] - 19s 4ms/step - loss: 0.0283 - val_loss: 0.0280\n",
      "Epoch 4/10\n",
      "4938/4938 [==============================] - 15s 3ms/step - loss: 0.0285 - val_loss: 0.0278\n",
      "Epoch 5/10\n",
      "4938/4938 [==============================] - 16s 3ms/step - loss: 0.0284 - val_loss: 0.0284\n",
      "Epoch 6/10\n",
      "4938/4938 [==============================] - 18s 4ms/step - loss: 0.0284 - val_loss: 0.0277\n",
      "Epoch 7/10\n",
      "4938/4938 [==============================] - 18s 4ms/step - loss: 0.0283 - val_loss: 0.0278\n",
      "Epoch 8/10\n",
      "4938/4938 [==============================] - 17s 3ms/step - loss: 0.0283 - val_loss: 0.0277\n",
      "Epoch 9/10\n",
      "4938/4938 [==============================] - 19s 4ms/step - loss: 0.0282 - val_loss: 0.0275\n",
      "Epoch 10/10\n",
      "4938/4938 [==============================] - 22s 4ms/step - loss: 0.0282 - val_loss: 0.0277\n"
     ]
    },
    {
     "data": {
      "text/plain": [
       "<keras.src.callbacks.History at 0x7f77e8f83f70>"
      ]
     },
     "execution_count": 28,
     "metadata": {},
     "output_type": "execute_result"
    }
   ],
   "source": [
    "from tensorflow.keras.models import Sequential\n",
    "from tensorflow.keras.layers import Dense, Dropout, BatchNormalization, Activation\n",
    "\n",
    "input_shape = X_dev.shape[1]\n",
    "\n",
    "model = Sequential()\n",
    "\n",
    "# First hidden layer\n",
    "model.add(Dense(128, input_shape=(input_shape,)))\n",
    "model.add(BatchNormalization())\n",
    "model.add(Activation('relu'))\n",
    "model.add(Dropout(0.3))\n",
    "\n",
    "# Second hidden layer\n",
    "model.add(Dense(128))\n",
    "model.add(BatchNormalization())\n",
    "model.add(Activation('relu'))\n",
    "model.add(Dropout(0.3))\n",
    "\n",
    "# Third hidden layer\n",
    "model.add(Dense(64))\n",
    "model.add(BatchNormalization())\n",
    "model.add(Activation('relu'))\n",
    "model.add(Dropout(0.2))\n",
    "\n",
    "# Fourth hidden layer\n",
    "model.add(Dense(32))\n",
    "model.add(Activation('relu'))\n",
    "\n",
    "# Output layer\n",
    "model.add(Dense(1))\n",
    "\n",
    "# Compile the model\n",
    "model.compile(optimizer='adam', loss='mean_squared_error')\n",
    "\n",
    "# Train the model\n",
    "model.fit(X_dev, y_dev, validation_data=(X_val, y_val), epochs=10, batch_size=32)\n"
   ]
  },
  {
   "cell_type": "code",
   "execution_count": null,
   "metadata": {},
   "outputs": [],
   "source": []
  },
  {
   "cell_type": "code",
   "execution_count": null,
   "metadata": {},
   "outputs": [],
   "source": []
  }
 ],
 "metadata": {
  "kernelspec": {
   "display_name": "base",
   "language": "python",
   "name": "python3"
  },
  "language_info": {
   "codemirror_mode": {
    "name": "ipython",
    "version": 3
   },
   "file_extension": ".py",
   "mimetype": "text/x-python",
   "name": "python",
   "nbconvert_exporter": "python",
   "pygments_lexer": "ipython3",
   "version": "3.8.5"
  }
 },
 "nbformat": 4,
 "nbformat_minor": 2
}
