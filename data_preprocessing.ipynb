{
 "cells": [
  {
   "cell_type": "code",
   "execution_count": 18,
   "metadata": {},
   "outputs": [],
   "source": [
    "import pandas as pd\n",
    "import numpy as np\n",
    "import matplotlib.pyplot as plt\n",
    "import seaborn as sns\n",
    "from sklearn.model_selection import train_test_split"
   ]
  },
  {
   "cell_type": "code",
   "execution_count": 19,
   "metadata": {},
   "outputs": [],
   "source": [
    "def show_corr(df):\n",
    "    # make a clean matrix, the font can fit in the box\n",
    "    plt.figure(figsize=(16, 16))\n",
    "    sns.heatmap(df.corr(), annot=True, fmt='.2f', cmap='coolwarm')\n",
    "    plt.show()"
   ]
  },
  {
   "cell_type": "markdown",
   "metadata": {},
   "source": [
    "### Load data and Clean data"
   ]
  },
  {
   "cell_type": "code",
   "execution_count": 20,
   "metadata": {},
   "outputs": [],
   "source": [
    "# Load data\n",
    "datapath = 'Data/national_csv/national_tes.csv'\n",
    "df = pd.read_csv(datapath)\n",
    "\n",
    "# Drop unnecessary columns\n",
    "drop_columns = [\n",
    "    'tc_gap', 'treecanopy', # most values are -1\n",
    "    'holc_grade', 'tesctyscor', # NULL values\n",
    "    'GEOID', 'place', 'state', 'state_abbr','county', 'ua_name', 'congressio','cnpysource', # unnecessary\n",
    "    'cbg_pop', 'priority_i', 'pctpoc', 'pctpov', 'unemplrate', 'dep_ratio','dep_perc', 'linguistic', 'temp_diff' # high corr\n",
    "]\n",
    "df = df.drop(drop_columns, axis=1)"
   ]
  },
  {
   "cell_type": "markdown",
   "metadata": {},
   "source": [
    "### Split data"
   ]
  },
  {
   "cell_type": "code",
   "execution_count": 21,
   "metadata": {},
   "outputs": [],
   "source": [
    "X, y = df.drop('unemplnorm', axis=1), df['unemplnorm']\n",
    "X_dev, X_test, y_dev, y_test = train_test_split(X, y, \n",
    "                                                random_state=42,\n",
    "                                                test_size = .2)"
   ]
  },
  {
   "cell_type": "markdown",
   "metadata": {},
   "source": [
    "### Target Encoding for Categorical Features"
   ]
  },
  {
   "cell_type": "code",
   "execution_count": 22,
   "metadata": {},
   "outputs": [],
   "source": [
    "from category_encoders import TargetEncoder\n",
    "# Create the target encoder\n",
    "encoder = TargetEncoder()\n",
    "\n",
    "# Fit the encoder on the development set (you should pass both the feature and the target)\n",
    "encoder.fit(X_dev['biome'].astype(str), y_dev)\n",
    "\n",
    "# Transform the feature (apply the encoding)\n",
    "transformed_biome = encoder.transform(X_dev['biome'].astype(str))\n",
    "transformed_biome_test = encoder.transform(X_test['biome'].astype(str))\n",
    "\n",
    "X_dev['biome_target'] = transformed_biome\n",
    "X_test['biome_target'] = transformed_biome_test\n",
    "X_dev = X_dev.drop('biome', axis=1)\n",
    "X_test = X_test.drop('biome', axis=1)"
   ]
  },
  {
   "cell_type": "markdown",
   "metadata": {},
   "source": [
    "### Reset Index"
   ]
  },
  {
   "cell_type": "code",
   "execution_count": 23,
   "metadata": {},
   "outputs": [],
   "source": [
    "X_dev.reset_index(drop=True, inplace=True)  \n",
    "X_test.reset_index(drop=True, inplace=True)"
   ]
  },
  {
   "cell_type": "markdown",
   "metadata": {},
   "source": [
    "### Save the dataframe to local"
   ]
  },
  {
   "cell_type": "code",
   "execution_count": 24,
   "metadata": {},
   "outputs": [],
   "source": [
    "# if there is no finalized data folder, create one\n",
    "import os\n",
    "if not os.path.exists('finalized_data'):\n",
    "    os.makedirs('finalized_data')\n",
    "\n",
    "# save the data\n",
    "X_dev.to_csv('finalized_data/X_dev.csv', index=False)\n",
    "X_test.to_csv('finalized_data/X_test.csv', index=False)\n",
    "y_dev.to_csv('finalized_data/y_dev.csv', index=False)\n",
    "y_test.to_csv('finalized_data/y_test.csv', index=False)\n"
   ]
  },
  {
   "cell_type": "markdown",
   "metadata": {},
   "source": [
    "### Helper function for reading data"
   ]
  },
  {
   "cell_type": "code",
   "execution_count": 25,
   "metadata": {},
   "outputs": [],
   "source": [
    "# read_data helper function\n",
    "def read_data():\n",
    "    X_dev = pd.read_csv('finalized_data/X_dev.csv')\n",
    "    X_test = pd.read_csv('finalized_data/X_test.csv')\n",
    "    y_dev = pd.read_csv('finalized_data/y_dev.csv')\n",
    "    y_test = pd.read_csv('finalized_data/y_test.csv')\n",
    "    return X_dev, X_test, y_dev, y_test"
   ]
  }
 ],
 "metadata": {
  "kernelspec": {
   "display_name": "base",
   "language": "python",
   "name": "python3"
  },
  "language_info": {
   "codemirror_mode": {
    "name": "ipython",
    "version": 3
   },
   "file_extension": ".py",
   "mimetype": "text/x-python",
   "name": "python",
   "nbconvert_exporter": "python",
   "pygments_lexer": "ipython3",
   "version": "3.8.5"
  }
 },
 "nbformat": 4,
 "nbformat_minor": 2
}
